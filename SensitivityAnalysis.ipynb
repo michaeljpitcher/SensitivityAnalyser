{
 "cells": [
  {
   "cell_type": "code",
   "execution_count": 1,
   "metadata": {
    "collapsed": false
   },
   "outputs": [
    {
     "name": "stderr",
     "output_type": "stream",
     "text": [
      "/Library/Frameworks/Python.framework/Versions/2.7/lib/python2.7/site-packages/matplotlib/font_manager.py:273: UserWarning: Matplotlib is building the font cache using fc-list. This may take a moment.\n",
      "  warnings.warn('Matplotlib is building the font cache using fc-list. This may take a moment.')\n"
     ]
    }
   ],
   "source": [
    "import epyc\n",
    "from sensitivity import *"
   ]
  },
  {
   "cell_type": "code",
   "execution_count": 2,
   "metadata": {
    "collapsed": true
   },
   "outputs": [],
   "source": [
    "# Dummy experiment\n",
    "class SAExperiment(epyc.Experiment):\n",
    "\n",
    "    PARAM_X = 'x'\n",
    "    PARAM_Y = 'y'\n",
    "    PARAM_Z = 'z'\n",
    "    SA_PARAMS = [PARAM_X, PARAM_Y, PARAM_Z]\n",
    "\n",
    "    RESULT_X_PLUS_Y = 'x_plus_y'\n",
    "    RESULT_X_SQUARED = 'x_squared'\n",
    "    RESULT_SIN_Y = 'sin_y'\n",
    "    RESULT_RANDOM_Y = 'random_y'\n",
    "    SA_RESULTS = [RESULT_X_PLUS_Y, RESULT_X_SQUARED, RESULT_SIN_Y, RESULT_RANDOM_Y]\n",
    "\n",
    "    def do(self, params):\n",
    "        x = params[self.PARAM_X]\n",
    "        y = params[self.PARAM_Y]\n",
    "        results = {}\n",
    "        results[SAExperiment.RESULT_X_PLUS_Y] = x + y\n",
    "        results[SAExperiment.RESULT_X_SQUARED] = x ** 2\n",
    "        results[SAExperiment.RESULT_SIN_Y] = numpy.sin(y)\n",
    "        results[SAExperiment.RESULT_RANDOM_Y] = numpy.random.random() * y\n",
    "        return results"
   ]
  },
  {
   "cell_type": "code",
   "execution_count": 3,
   "metadata": {
    "collapsed": true
   },
   "outputs": [],
   "source": [
    "model = SAExperiment()"
   ]
  },
  {
   "cell_type": "code",
   "execution_count": 4,
   "metadata": {
    "collapsed": true
   },
   "outputs": [],
   "source": [
    "sa = SensitivityAnalyser(model)"
   ]
  },
  {
   "cell_type": "code",
   "execution_count": 5,
   "metadata": {
    "collapsed": true
   },
   "outputs": [],
   "source": [
    "sa.add_certain_parameter(SAExperiment.PARAM_Z, 1)\n",
    "sa.add_uncertain_parameter_uniform_distribution(SAExperiment.PARAM_X, 0.5, 10.5, 1000)\n",
    "sa.add_uncertain_parameter_uniform_distribution(SAExperiment.PARAM_Y, 0.5, 10.5, 1000)"
   ]
  },
  {
   "cell_type": "code",
   "execution_count": 6,
   "metadata": {
    "collapsed": false
   },
   "outputs": [],
   "source": [
    "sa.generate_monotonicity_data(100)\n",
    "sa.create_monotonicity_plots(show=False)"
   ]
  },
  {
   "cell_type": "code",
   "execution_count": 7,
   "metadata": {
    "collapsed": true
   },
   "outputs": [],
   "source": [
    "sa.generate_lhs_data()\n",
    "sa.obtain_lhs_results()"
   ]
  },
  {
   "cell_type": "code",
   "execution_count": 12,
   "metadata": {
    "collapsed": false
   },
   "outputs": [
    {
     "name": "stdout",
     "output_type": "stream",
     "text": [
      "('y', u'sin_y') (-0.16949193842668983, 6.9615440485154293e-08)\n",
      "SIGNIFICANT\n",
      "('x', u'x_plus_y') (0.69760892960040211, 1.1248564503265888e-146)\n",
      "SIGNIFICANT\n",
      "('y', u'x_squared') (-0.028677586533947214, 0.36497978742449155)\n",
      "NON-SIGNIFICANT\n",
      "('x', u'sin_y') (0.048788227478117549, 0.12312030933278494)\n",
      "NON-SIGNIFICANT\n",
      "('x', u'random_y') (-0.025975514521793079, 0.41191461744105962)\n",
      "NON-SIGNIFICANT\n",
      "('y', u'random_y') (0.99614947659994113, 0.0)\n",
      "SIGNIFICANT\n",
      "('x', u'x_squared') (0.97348947294824761, 0.0)\n",
      "SIGNIFICANT\n",
      "('y', u'x_plus_y') (0.69760892960040199, 1.1248564503267806e-146)\n",
      "SIGNIFICANT\n"
     ]
    }
   ],
   "source": [
    "for a,b in sa.get_all_pearson_correlation_coefficients().iteritems():\n",
    "    print a, b\n",
    "    if b[1] < 0.01:\n",
    "        print \"SIGNIFICANT\"\n",
    "    else:\n",
    "        print \"NON-SIGNIFICANT\""
   ]
  },
  {
   "cell_type": "code",
   "execution_count": 13,
   "metadata": {
    "collapsed": false
   },
   "outputs": [
    {
     "name": "stdout",
     "output_type": "stream",
     "text": [
      "('y', u'sin_y') SpearmanrResult(correlation=-0.16847763647763647, pvalue=8.3488855554788757e-08)\n",
      "SIGNIFICANT\n",
      "('x', u'x_plus_y') SpearmanrResult(correlation=0.68811855857416249, pvalue=3.4591329080924648e-141)\n",
      "SIGNIFICANT\n",
      "('y', u'x_squared') SpearmanrResult(correlation=-0.02668356268356268, pvalue=0.39928266357703923)\n",
      "NON-SIGNIFICANT\n",
      "('x', u'sin_y') SpearmanrResult(correlation=0.055116847116847119, pvalue=0.081492320903038484)\n",
      "NON-SIGNIFICANT\n",
      "('x', u'random_y') SpearmanrResult(correlation=-0.025218409218409215, pvalue=0.42568024604476218)\n",
      "NON-SIGNIFICANT\n",
      "('y', u'random_y') SpearmanrResult(correlation=0.99648631248631248, pvalue=0.0)\n",
      "SIGNIFICANT\n",
      "('x', u'x_squared') SpearmanrResult(correlation=1.0, pvalue=0.0)\n",
      "SIGNIFICANT\n",
      "('y', u'x_plus_y') SpearmanrResult(correlation=0.69143681767523912, pvalue=4.409436492309829e-143)\n",
      "SIGNIFICANT\n"
     ]
    }
   ],
   "source": [
    "for a,b in sa.get_all_spearman_rank_correlation_coefficients().iteritems():\n",
    "    print a, b\n",
    "    if b[1] < 0.01:\n",
    "        print \"SIGNIFICANT\"\n",
    "    else:\n",
    "        print \"NON-SIGNIFICANT\""
   ]
  },
  {
   "cell_type": "code",
   "execution_count": null,
   "metadata": {
    "collapsed": true
   },
   "outputs": [],
   "source": []
  }
 ],
 "metadata": {
  "kernelspec": {
   "display_name": "Python 2",
   "language": "python",
   "name": "python2"
  },
  "language_info": {
   "codemirror_mode": {
    "name": "ipython",
    "version": 2
   },
   "file_extension": ".py",
   "mimetype": "text/x-python",
   "name": "python",
   "nbconvert_exporter": "python",
   "pygments_lexer": "ipython2",
   "version": "2.7.10"
  }
 },
 "nbformat": 4,
 "nbformat_minor": 0
}
