{
 "cells": [
  {
   "cell_type": "code",
   "execution_count": 1,
   "metadata": {
    "collapsed": false
   },
   "outputs": [
    {
     "name": "stderr",
     "output_type": "stream",
     "text": [
      "/Library/Frameworks/Python.framework/Versions/2.7/lib/python2.7/site-packages/matplotlib/font_manager.py:273: UserWarning: Matplotlib is building the font cache using fc-list. This may take a moment.\n",
      "  warnings.warn('Matplotlib is building the font cache using fc-list. This may take a moment.')\n"
     ]
    }
   ],
   "source": [
    "from sensitivity import *"
   ]
  },
  {
   "cell_type": "code",
   "execution_count": 2,
   "metadata": {
    "collapsed": true
   },
   "outputs": [],
   "source": [
    "# Dummy experiment\n",
    "class SAExperiment(epyc.Experiment):\n",
    "\n",
    "    PARAM_X = 'x'\n",
    "    PARAM_Y = 'y'\n",
    "    PARAM_Z = 'z'\n",
    "    SA_PARAMS = [PARAM_X, PARAM_Y, PARAM_Z]\n",
    "\n",
    "    RESULT_X_PLUS_Y = 'x_plus_y'\n",
    "    RESULT_X_SQUARED = 'x_squared'\n",
    "    RESULT_SIN_Y = 'sin_y'\n",
    "    RESULT_RANDOM_Y = 'random_y'\n",
    "    RESULT_RANDOM = 'random'\n",
    "    SA_RESULTS = [RESULT_X_PLUS_Y, RESULT_X_SQUARED, RESULT_SIN_Y, RESULT_RANDOM_Y, RESULT_RANDOM]\n",
    "\n",
    "    def do(self, params):\n",
    "        x = params[self.PARAM_X]\n",
    "        y = params[self.PARAM_Y]\n",
    "        results = {SAExperiment.RESULT_X_PLUS_Y: x + y,\n",
    "                   SAExperiment.RESULT_X_SQUARED: x ** 2,\n",
    "                   SAExperiment.RESULT_SIN_Y: numpy.sin(y),\n",
    "                   SAExperiment.RESULT_RANDOM_Y: numpy.random.random() * y,\n",
    "                   SAExperiment.RESULT_RANDOM: numpy.random.random()}\n",
    "        return results"
   ]
  },
  {
   "cell_type": "code",
   "execution_count": 3,
   "metadata": {
    "collapsed": true
   },
   "outputs": [],
   "source": [
    "model = SAExperiment()"
   ]
  },
  {
   "cell_type": "code",
   "execution_count": 4,
   "metadata": {
    "collapsed": false
   },
   "outputs": [],
   "source": [
    "params = ParameterSet()\n",
    "params.add_certain_parameter(SAExperiment.PARAM_Z, 1)\n",
    "params.add_uncertain_parameter_uniform_dist(SAExperiment.PARAM_X, 0.5, 10.5)\n",
    "params.add_uncertain_parameter_uniform_dist(SAExperiment.PARAM_Y, 0.5, 10.5)"
   ]
  },
  {
   "cell_type": "code",
   "execution_count": 5,
   "metadata": {
    "collapsed": false
   },
   "outputs": [],
   "source": [
    "strats = 500\n",
    "reps = 100"
   ]
  },
  {
   "cell_type": "code",
   "execution_count": 6,
   "metadata": {
    "collapsed": false
   },
   "outputs": [
    {
     "name": "stdout",
     "output_type": "stream",
     "text": [
      "['x.json', 'x_random.png', 'x_random_y.png', 'x_sin_y.png', 'x_x_plus_y.png', 'x_x_squared.png', 'y.json', 'y_random.png', 'y_random_y.png', 'y_sin_y.png', 'y_x_plus_y.png', 'y_x_squared.png']\n"
     ]
    }
   ],
   "source": [
    "scatter_dir = 'scatter'\n",
    "create_lhs_scatter_plots(model, params, strats, reps, 'scatter')\n",
    "\n",
    "mon_files = os.listdir(scatter_dir)\n",
    "mon_files.sort()\n",
    "print mon_files"
   ]
  },
  {
   "cell_type": "code",
   "execution_count": 7,
   "metadata": {
    "collapsed": false
   },
   "outputs": [],
   "source": [
    "lhs_output_folder = 'lhs'\n",
    "evaluate_lhs(model, params, strats, reps, lhs_output_folder)"
   ]
  },
  {
   "cell_type": "code",
   "execution_count": 8,
   "metadata": {
    "collapsed": false
   },
   "outputs": [],
   "source": [
    "analyser = LHSAnalyser(params, lhs_output_folder)"
   ]
  },
  {
   "cell_type": "code",
   "execution_count": 9,
   "metadata": {
    "collapsed": false
   },
   "outputs": [
    {
     "name": "stdout",
     "output_type": "stream",
     "text": [
      "PEARSON:\n",
      "y sin_y -0.17082957773759055 p= 0.00012375968221175557\n",
      "x random -0.029130916301814278 p= 0.5157602543830649\n",
      "x x_plus_y 0.7011480973621889 p= 3.5460349835474146e-75\n",
      "y x_squared -0.008865794204161422 p= 0.8432384082713766\n",
      "x sin_y 0.07017531808103329 p= 0.11707428469552443\n",
      "x random_y -0.011324327894120892 p= 0.8005819740662807\n",
      "y random_y 0.9939270519183114 p= 0.0\n",
      "x x_squared 0.9734387242221405 p= 5.17e-321\n",
      "y random 0.08579374615861936 p= 0.05522002769864995\n",
      "y x_plus_y 0.7011480973621889 p= 3.5460349835474146e-75\n",
      "\n"
     ]
    }
   ],
   "source": [
    "print \"PEARSON:\"\n",
    "for (param, res), (r, p) in analyser.get_all_pearson_correlation_coefficients().iteritems():\n",
    "    print param, res, r, \"p=\", p\n",
    "print"
   ]
  },
  {
   "cell_type": "code",
   "execution_count": 10,
   "metadata": {
    "collapsed": false
   },
   "outputs": [
    {
     "name": "stdout",
     "output_type": "stream",
     "text": [
      "SPEARMAN:\n",
      "y sin_y -0.17037207348829395 p= 0.00012912406690455502\n",
      "x random -0.022148632594530378 p= 0.6212500202954037\n",
      "x x_plus_y 0.6958714334509076 p= 1.2874869882589818e-73\n",
      "y x_squared -0.01678269113076452 p= 0.7081368798589709\n",
      "x sin_y 0.06244901779607118 p= 0.1632365069698258\n",
      "x random_y -0.011321613286453145 p= 0.8006287727969812\n",
      "y random_y 0.9943450973803896 p= 0.0\n",
      "x x_squared 1.0 p= 0.0\n",
      "y random 0.10365343861375444 p= 0.020438037639917354\n",
      "y x_plus_y 0.6963836936391514 p= 9.11564403951724e-74\n",
      "\n"
     ]
    }
   ],
   "source": [
    "print \"SPEARMAN:\"\n",
    "for (param, res), (r, p) in analyser.get_all_spearman_rank_correlation_coefficients().iteritems():\n",
    "    print param, res, r, \"p=\", p\n",
    "print\n"
   ]
  },
  {
   "cell_type": "code",
   "execution_count": 11,
   "metadata": {
    "collapsed": false
   },
   "outputs": [
    {
     "name": "stdout",
     "output_type": "stream",
     "text": [
      "PRCC:\n",
      "y random_y [0.99435886] p= [0.]\n",
      "x random_y [0.05053743] p= [0.25934367]\n",
      "y random [0.10332162] p= [0.02084686]\n",
      "x random [-0.02052247] p= [0.64709901]\n",
      "y sin_y [-0.16967905] p= [0.00013767]\n",
      "x sin_y [0.06048237] p= [0.17692669]\n",
      "y x_squared [0.00320891] p= [0.94294099]\n",
      "x x_squared [1.] p= 0.0\n",
      "y x_plus_y [0.98606959] p= [0.]\n",
      "x x_plus_y [0.98605016] p= [0.]\n"
     ]
    }
   ],
   "source": [
    "print \"PRCC:\"\n",
    "for k, v in analyser.get_all_prcc(True).iteritems():\n",
    "    for param, (r,p) in v.iteritems():\n",
    "        print param, k, r, \"p=\", p\n"
   ]
  },
  {
   "cell_type": "code",
   "execution_count": 12,
   "metadata": {
    "collapsed": false
   },
   "outputs": [
    {
     "name": "stdout",
     "output_type": "stream",
     "text": [
      "['latinhypercube.json', 'x_random.png', 'x_random_y.png', 'x_sin_y.png', 'x_x_plus_y.png', 'x_x_squared.png', 'y_random.png', 'y_random_y.png', 'y_sin_y.png', 'y_x_plus_y.png', 'y_x_squared.png']\n"
     ]
    }
   ],
   "source": [
    "mon_files = os.listdir(lhs_output_folder)\n",
    "mon_files.sort()\n",
    "print mon_files"
   ]
  }
 ],
 "metadata": {
  "kernelspec": {
   "display_name": "Python 2",
   "language": "python",
   "name": "python2"
  },
  "language_info": {
   "codemirror_mode": {
    "name": "ipython",
    "version": 2
   },
   "file_extension": ".py",
   "mimetype": "text/x-python",
   "name": "python",
   "nbconvert_exporter": "python",
   "pygments_lexer": "ipython2",
   "version": "2.7.10"
  }
 },
 "nbformat": 4,
 "nbformat_minor": 0
}
